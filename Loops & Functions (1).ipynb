{
 "cells": [
  {
   "cell_type": "markdown",
   "id": "77084bed",
   "metadata": {},
   "source": [
    "### Loops:\n",
    "Loop is a programming construct that allows to execute same logic by repeating multiple no. of times "
   ]
  },
  {
   "cell_type": "code",
   "execution_count": null,
   "id": "66bd5503",
   "metadata": {},
   "outputs": [],
   "source": [
    "# While Loop - It's an programming contruct which executes \n",
    "# the logic only till the given condition in TRUE.it terminates when the given condition turns out to be false "
   ]
  },
  {
   "cell_type": "code",
   "execution_count": 1,
   "id": "9ba77f67-ad7f-493a-96be-9c393659460a",
   "metadata": {},
   "outputs": [
    {
     "name": "stdout",
     "output_type": "stream",
     "text": [
      "0\n",
      "1\n",
      "2\n",
      "3\n",
      "4\n"
     ]
    }
   ],
   "source": [
    "i = 0     # intializer\n",
    "while(i<5):\n",
    "    print(i)\n",
    "    i=i+1"
   ]
  },
  {
   "cell_type": "code",
   "execution_count": 1,
   "id": "f09418a3",
   "metadata": {},
   "outputs": [
    {
     "name": "stdout",
     "output_type": "stream",
     "text": [
      "list2[0] = 1\n",
      "list2[1] = 2\n",
      "list2[2] = 3\n",
      "list2[3] = 4\n",
      "list2[4][0] = 10\n",
      "list2[4][1] = 11\n",
      "list2[4][2][0] = 13\n",
      "list2[4][2][1] = 14\n",
      "list2[4][2][2][0] = 20\n",
      "list2[4][2][2][1] = 21\n",
      "list2[4][2][2][2] = 22\n",
      "list2[4][2][3] = 15\n",
      "list2[4][3] = 12\n",
      "list2[5] = 5\n",
      "list2[6] = 6\n",
      "list2[7] = 7\n"
     ]
    }
   ],
   "source": [
    "list2 = [1, 2, 3, 4, [10, 11, [13, 14, [20, 21, 22], 15], 12], 5, 6, 7]\n",
    "\n",
    "for i in range(len(list2)):\n",
    "    if isinstance(list2[i], list):\n",
    "        for j in range(len(list2[i])):\n",
    "            if isinstance(list2[i][j], list):\n",
    "                for k in range(len(list2[i][j])):\n",
    "                    if isinstance(list2[i][j][k], list):\n",
    "                        for l in range(len(list2[i][j][k])):\n",
    "                            print(f\"list2[{i}][{j}][{k}][{l}] = {list2[i][j][k][l]}\")\n",
    "                    else:\n",
    "                        print(f\"list2[{i}][{j}][{k}] = {list2[i][j][k]}\")\n",
    "            else:\n",
    "                print(f\"list2[{i}][{j}] = {list2[i][j]}\")\n",
    "    else:\n",
    "        print(f\"list2[{i}] = {list2[i]}\")\n"
   ]
  },
  {
   "cell_type": "code",
   "execution_count": 2,
   "id": "60b8cdff",
   "metadata": {},
   "outputs": [
    {
     "name": "stdout",
     "output_type": "stream",
     "text": [
      "list2[0] = 1\n",
      "list2[0] = 2\n",
      "list2[0] = 3\n",
      "list2[0] = 4\n",
      "list2[0][1] = 10\n",
      "list2[0][1] = 11\n",
      "list2[0][1][2] = 13\n",
      "list2[0][1][2] = 14\n",
      "list2[0][1][2][3] = 20\n",
      "list2[0][1][2][3] = 21\n",
      "list2[0][1][2][3] = 22\n",
      "list2[0][1][2] = 15\n",
      "list2[0][1] = 12\n",
      "list2[0] = 5\n",
      "list2[0] = 6\n",
      "list2[0] = 7\n"
     ]
    }
   ],
   "source": [
    "def iterate_list(lst, depth=0):\n",
    "    for index, element in enumerate(lst):\n",
    "        if isinstance(element, list):\n",
    "            iterate_list(element, depth + 1)\n",
    "        else:\n",
    "            print(f\"list2{''.join(['[' + str(idx) + ']' for idx in range(depth + 1)])} = {element}\")\n",
    "\n",
    "list2 = [1, 2, 3, 4, [10, 11, [13, 14, [20, 21, 22], 15], 12], 5, 6, 7]\n",
    "iterate_list(list2)\n",
    "\n"
   ]
  },
  {
   "cell_type": "code",
   "execution_count": 5,
   "id": "57047833",
   "metadata": {},
   "outputs": [
    {
     "name": "stdout",
     "output_type": "stream",
     "text": [
      "list2[0] = 1\n",
      "list2[1] = 2\n",
      "list2[2] = 3\n",
      "list2[3] = 4\n",
      "list2[0] = 10\n",
      "list2[1] = 11\n",
      "list2[0] = 13\n",
      "list2[1] = 14\n",
      "list2[0] = 20\n",
      "list2[1] = 21\n",
      "list2[2] = 22\n",
      "list2[3] = 15\n",
      "list2[3] = 12\n",
      "list2[5] = 5\n",
      "list2[6] = 6\n",
      "list2[7] = 7\n"
     ]
    }
   ],
   "source": [
    "def iterate_list(lst):\n",
    "    for i in range(len(lst)):\n",
    "        if isinstance(lst[i], list):\n",
    "            iterate_list(lst[i])\n",
    "        else:\n",
    "            print(f\"list2[{i}] = {lst[i]}\")\n",
    "            list2 = [1, 2, 3, 4, [10, 11, [13, 14, [20, 21, 22], 15], 12], 5, 6, 7]\n",
    "iterate_list(list2)"
   ]
  },
  {
   "cell_type": "code",
   "execution_count": null,
   "id": "8bc24f8b",
   "metadata": {},
   "outputs": [],
   "source": []
  },
  {
   "cell_type": "code",
   "execution_count": null,
   "id": "751bf7a9",
   "metadata": {},
   "outputs": [],
   "source": []
  },
  {
   "cell_type": "code",
   "execution_count": null,
   "id": "7197e62a",
   "metadata": {},
   "outputs": [],
   "source": []
  },
  {
   "cell_type": "code",
   "execution_count": null,
   "id": "5926861e",
   "metadata": {},
   "outputs": [],
   "source": []
  },
  {
   "cell_type": "code",
   "execution_count": 5,
   "id": "a16a2cd0",
   "metadata": {},
   "outputs": [
    {
     "name": "stdout",
     "output_type": "stream",
     "text": [
      "0\n",
      "1\n",
      "2\n",
      "3\n",
      "4\n",
      "5\n"
     ]
    }
   ],
   "source": [
    "i = 0\n",
    "while(i<=5):\n",
    "    print(i)\n",
    "    i+=1    #  post increment   # isme zero se start krega"
   ]
  },
  {
   "cell_type": "code",
   "execution_count": 14,
   "id": "925b8d77",
   "metadata": {},
   "outputs": [
    {
     "name": "stdout",
     "output_type": "stream",
     "text": [
      "1\n",
      "2\n",
      "3\n",
      "4\n",
      "5\n",
      "6\n"
     ]
    }
   ],
   "source": [
    "i = 0     # intializer\n",
    "while(i<=5):\n",
    "    i=i+1 # pre increment  # isme 1 se start krega\n",
    "    print(i)\n",
    "    "
   ]
  },
  {
   "cell_type": "code",
   "execution_count": 17,
   "id": "f28b5d98",
   "metadata": {},
   "outputs": [
    {
     "name": "stdout",
     "output_type": "stream",
     "text": [
      "10\n",
      "11\n",
      "12\n",
      "13\n",
      "14\n",
      "15\n",
      "16\n",
      "17\n",
      "18\n",
      "nandini!\n"
     ]
    }
   ],
   "source": [
    "# lower to higher - increment\n",
    "count =10\n",
    "while count<=18:\n",
    "    print(count)\n",
    "    count+=1\n",
    "else:\n",
    "    print(\"nandini!\")    # asc me plus"
   ]
  },
  {
   "cell_type": "code",
   "execution_count": 27,
   "id": "097e1d49",
   "metadata": {},
   "outputs": [
    {
     "name": "stdout",
     "output_type": "stream",
     "text": [
      "100\n",
      "98\n",
      "96\n",
      "94\n",
      "92\n",
      "90\n",
      "88\n",
      "86\n",
      "84\n",
      "82\n",
      "80\n",
      "78\n",
      "76\n",
      "74\n",
      "72\n",
      "70\n",
      "68\n",
      "66\n",
      "64\n",
      "62\n"
     ]
    }
   ],
   "source": [
    "# post function lgaa h isme \n",
    "count =100\n",
    "while count>60:\n",
    "    print(count)\n",
    "    count-=2 ##### post function start se pickup krega   # desc me -\n"
   ]
  },
  {
   "cell_type": "code",
   "execution_count": 1,
   "id": "e856dd25-6884-482a-8ea2-c1725a7d1838",
   "metadata": {},
   "outputs": [
    {
     "name": "stdout",
     "output_type": "stream",
     "text": [
      "98\n",
      "96\n",
      "94\n",
      "92\n",
      "90\n",
      "88\n",
      "86\n",
      "84\n",
      "82\n",
      "80\n",
      "78\n",
      "76\n",
      "74\n",
      "72\n",
      "70\n",
      "68\n",
      "66\n",
      "64\n",
      "62\n",
      "60\n"
     ]
    }
   ],
   "source": [
    "# pre function lgaaaa h isme \n",
    "count =100\n",
    "while count>60: \n",
    "    count-=2\n",
    "    \n",
    "    print(count)\n",
    "#count-=2 ####### pre function start se pickup nhi kregaaaaa ."
   ]
  },
  {
   "cell_type": "code",
   "execution_count": 2,
   "id": "1e0264a3-a943-43b4-848c-04b86a206f07",
   "metadata": {},
   "outputs": [
    {
     "name": "stdout",
     "output_type": "stream",
     "text": [
      "15 division by 3\n",
      "20 not divisible by 3\n",
      "25 not divisible by 3\n",
      "30 division by 3\n",
      "35 not divisible by 3\n"
     ]
    }
   ],
   "source": [
    "num = 15\n",
    "while num <=35:\n",
    "    if num%3==0:\n",
    "        print(num,\"division by 3\")\n",
    "    \n",
    "    else:\n",
    "        print(num,\"not divisible by 3\")\n",
    "    num+=5\n"
   ]
  },
  {
   "cell_type": "code",
   "execution_count": 18,
   "id": "a0d45113",
   "metadata": {},
   "outputs": [
    {
     "name": "stdout",
     "output_type": "stream",
     "text": [
      "num is positive\n"
     ]
    }
   ],
   "source": [
    "\n",
    "num =8\n",
    "if num>0:\n",
    "    print('num is positive')\n",
    "\n",
    "else:\n",
    "    print('num is negative')"
   ]
  },
  {
   "cell_type": "code",
   "execution_count": 37,
   "id": "f6b309dd-0829-4ab9-b102-d98870a3bcff",
   "metadata": {},
   "outputs": [
    {
     "name": "stdout",
     "output_type": "stream",
     "text": [
      "60 -is even\n",
      "59 - is odd\n",
      "58 -is even\n",
      "57 - is odd\n",
      "56 -is even\n",
      "55 - is odd\n",
      "54 -is even\n",
      "53 - is odd\n",
      "52 -is even\n",
      "51 - is odd\n",
      "50 -is even\n"
     ]
    }
   ],
   "source": [
    "num=60\n",
    "while num>=50:\n",
    "    if num %2==0:\n",
    "        print(num,\"-is even\")\n",
    "    else:\n",
    "        print(num,\"- is odd\")\n",
    "    num-=1"
   ]
  },
  {
   "cell_type": "code",
   "execution_count": null,
   "id": "2c5e0092-5c7d-4517-ae2f-57f49913cfb9",
   "metadata": {},
   "outputs": [],
   "source": [
    "# table banane ka tarika"
   ]
  },
  {
   "cell_type": "code",
   "execution_count": 40,
   "id": "bb61732c-14ef-48a6-8200-0aa8c031b8b5",
   "metadata": {},
   "outputs": [
    {
     "name": "stdout",
     "output_type": "stream",
     "text": [
      "5 * 1 = 5\n",
      "5 * 2 = 10\n",
      "5 * 3 = 15\n",
      "5 * 4 = 20\n",
      "5 * 5 = 25\n",
      "5 * 6 = 30\n",
      "5 * 7 = 35\n",
      "5 * 8 = 40\n",
      "5 * 9 = 45\n",
      "5 * 10 = 50\n"
     ]
    }
   ],
   "source": [
    "#### table=int(input(\"enter the no\"))\n",
    "i=1\n",
    "while i<=10:\n",
    "    print(table,\"*\",i,\"=\",table*i)\n",
    "    i+=1"
   ]
  },
  {
   "cell_type": "code",
   "execution_count": 32,
   "id": "8624ac6b-685e-40de-bde4-78320230797a",
   "metadata": {},
   "outputs": [
    {
     "name": "stdin",
     "output_type": "stream",
     "text": [
      "enter the no 10\n"
     ]
    },
    {
     "name": "stdout",
     "output_type": "stream",
     "text": [
      "10 * 1 = 10\n",
      "10 * 2 = 20\n",
      "10 * 3 = 30\n",
      "10 * 4 = 40\n",
      "10 * 5 = 50\n",
      "10 * 6 = 60\n",
      "10 * 7 = 70\n",
      "10 * 8 = 80\n",
      "10 * 9 = 90\n",
      "10 * 10 = 100\n"
     ]
    }
   ],
   "source": [
    "table = int(input(\"enter the no\"))\n",
    "i=1\n",
    "while i<=10:\n",
    "    print(table,\"*\",i,\"=\",table*i)\n",
    "    i+=1"
   ]
  },
  {
   "cell_type": "code",
   "execution_count": null,
   "id": "dba5b758-a3bc-481f-89f6-fbeabaa5b4db",
   "metadata": {},
   "outputs": [],
   "source": [
    "table = int(input(\"enter the no\"))\n",
    "i=1\n",
    "while\n",
    "            "
   ]
  },
  {
   "cell_type": "code",
   "execution_count": null,
   "id": "9b16d72e-9aec-43af-81fa-63bd8a13855e",
   "metadata": {},
   "outputs": [],
   "source": []
  },
  {
   "cell_type": "code",
   "execution_count": null,
   "id": "1efcbc67-2741-4b56-a687-262e4e2dc2f6",
   "metadata": {},
   "outputs": [],
   "source": []
  },
  {
   "cell_type": "code",
   "execution_count": 1,
   "id": "36c7dfa9",
   "metadata": {},
   "outputs": [],
   "source": [
    "# For Loop - It's an iterative loop as it traverses/iterates to all the \n",
    "# elements in the sequence/collection & stops only after all the elements \n",
    "# in sequence are completed"
   ]
  },
  {
   "cell_type": "code",
   "execution_count": 41,
   "id": "229012d6",
   "metadata": {},
   "outputs": [
    {
     "name": "stdout",
     "output_type": "stream",
     "text": [
      "10\n",
      "20\n",
      "30\n",
      "35\n",
      "40\n",
      "30\n",
      "55\n",
      "60\n"
     ]
    }
   ],
   "source": [
    "l1=[2,4,6,7,8,6,11,12]\n",
    "for x in l1:\n",
    "    print(x*5)"
   ]
  },
  {
   "cell_type": "code",
   "execution_count": 38,
   "id": "cfeb6942",
   "metadata": {},
   "outputs": [
    {
     "name": "stdout",
     "output_type": "stream",
     "text": [
      "115\n",
      "25\n",
      "30\n",
      "20\n",
      "20\n",
      "15\n",
      "10\n"
     ]
    }
   ],
   "source": [
    "l1 = [23,5,6,4,4,3,2]\n",
    "for x in l1:\n",
    "    \n",
    "    print(x*5)"
   ]
  },
  {
   "cell_type": "code",
   "execution_count": 45,
   "id": "bddf3c45",
   "metadata": {},
   "outputs": [
    {
     "name": "stdout",
     "output_type": "stream",
     "text": [
      "hello! eric\n",
      "hello! sree\n",
      "hello! sam\n",
      "hello! ravi\n",
      "hello! prashant\n",
      "hello! shyam\n"
     ]
    }
   ],
   "source": [
    "names =[\"eric\",\"sree\",\"sam\",\"ravi\",\"prashant\",\"shyam\"]\n",
    "for i in names:\n",
    "    print(\"hello!\",i)\n"
   ]
  },
  {
   "cell_type": "code",
   "execution_count": 44,
   "id": "25888620",
   "metadata": {},
   "outputs": [
    {
     "name": "stdout",
     "output_type": "stream",
     "text": [
      "sree\n",
      "sam\n",
      "prashant\n",
      "shyam\n"
     ]
    }
   ],
   "source": [
    "for i in names:\n",
    "    if \"s\" in i :\n",
    "        print(i)"
   ]
  },
  {
   "cell_type": "code",
   "execution_count": 46,
   "id": "76c53c3a",
   "metadata": {},
   "outputs": [
    {
     "name": "stdout",
     "output_type": "stream",
     "text": [
      "eric\n",
      "ravi\n"
     ]
    }
   ],
   "source": [
    "for z in names:\n",
    "    if \"i\" in z:\n",
    "        print(z)"
   ]
  },
  {
   "cell_type": "code",
   "execution_count": 47,
   "id": "84ec16cf",
   "metadata": {},
   "outputs": [
    {
     "name": "stdout",
     "output_type": "stream",
     "text": [
      "sree\n",
      "sam\n",
      "prashant\n",
      "shyam\n"
     ]
    }
   ],
   "source": [
    "for x in names:\n",
    "    if \"i\"not in x :\n",
    "        print(x)"
   ]
  },
  {
   "cell_type": "code",
   "execution_count": 66,
   "id": "3de7c3ef",
   "metadata": {},
   "outputs": [
    {
     "name": "stdout",
     "output_type": "stream",
     "text": [
      "90/156/18/8/10/12/14/"
     ]
    }
   ],
   "source": [
    "num = [45,78,9,4,5,6,7]\n",
    "for i in num:\n",
    "    print(i*2 ,end = \"/\")"
   ]
  },
  {
   "cell_type": "code",
   "execution_count": 81,
   "id": "acce6e96-f9fd-44ec-9589-f702a0358d03",
   "metadata": {},
   "outputs": [],
   "source": [
    "numbers = (45,56,78,8,5,4,3,5,6,6,5,5,4,43,4,5,5,5,6)\n"
   ]
  },
  {
   "cell_type": "code",
   "execution_count": 76,
   "id": "89744336-79d2-40e6-adb6-df36ce2eec25",
   "metadata": {},
   "outputs": [
    {
     "name": "stdout",
     "output_type": "stream",
     "text": [
      "Odd 3\n",
      "Even 2\n",
      "Even 4\n",
      "Even 6\n",
      "Odd 6\n",
      "Even 8\n",
      "Odd 9\n",
      "Odd 12\n",
      "Even 10\n",
      "Even 12\n",
      "Odd 15\n",
      "Odd 18\n",
      "Even 14\n",
      "Odd 21\n",
      "Even 16\n",
      "Odd 24\n",
      "Odd 27\n",
      "Odd 30\n",
      "Even 18\n"
     ]
    }
   ],
   "source": [
    "even =0\n",
    "odd=0\n",
    "\n",
    "for i in numbers:\n",
    "    if i%2==0:\n",
    "        even+=2\n",
    "        print(\"Even\",even)\n",
    "    else:\n",
    "        odd +=3\n",
    "        print(\"Odd\",odd)\n",
    "        "
   ]
  },
  {
   "cell_type": "code",
   "execution_count": 82,
   "id": "a7cc4b8c-051a-4162-bad0-9fc7c217b45c",
   "metadata": {},
   "outputs": [
    {
     "name": "stdout",
     "output_type": "stream",
     "text": [
      "there are  9 Even nos.in list\n",
      "there are  10 Odd nos.in list\n"
     ]
    }
   ],
   "source": [
    "even =0\n",
    "odd=0\n",
    "\n",
    "for i in numbers:\n",
    "    if i%2==0:\n",
    "        even+=1\n",
    "        #print(\"Even\",even)\n",
    "    else:\n",
    "        odd +=1\n",
    "       # print(\"Odd\",odd)\n",
    "print(\"there are \",even,\"Even nos.in list\")\n",
    "print(\"there are \",odd,\"Odd nos.in list\")"
   ]
  },
  {
   "cell_type": "code",
   "execution_count": 83,
   "id": "63f53559-9a3b-4e91-833a-f033efad30de",
   "metadata": {},
   "outputs": [
    {
     "name": "stdout",
     "output_type": "stream",
     "text": [
      "[0, 1, 2, 3, 4, 5, 6, 7, 8, 9]\n",
      "[4, 5, 6, 7, 8, 9]\n",
      "[-9, -8, -7, -6, -5, -4, -3, -2, -1, 0, 1, 2, 3, 4, 5, 6, 7, 8, 9]\n"
     ]
    }
   ],
   "source": [
    "list1 = list(range(10))\n",
    "print(list1)\n",
    "list2 = list(range(4,10))\n",
    "print(list2)\n",
    "list3 = list(range(-9,10))\n",
    "print(list3)"
   ]
  },
  {
   "cell_type": "code",
   "execution_count": 84,
   "id": "91ab86a9-dead-4c85-9716-6d589f1576f6",
   "metadata": {},
   "outputs": [
    {
     "name": "stdout",
     "output_type": "stream",
     "text": [
      "[5, 6, 7, 8, 9, 10, 11, 12, 13, 14, 15, 16, 17, 18, 19, 20, 21, 22, 23, 24, 25, 26, 27, 28, 29, 30, 31, 32, 33, 34, 35, 36, 37, 38, 39, 40, 41, 42, 43, 44, 45, 46, 47, 48, 49, 50, 51, 52, 53, 54, 55, 56, 57, 58, 59, 60, 61, 62, 63, 64, 65, 66, 67, 68, 69, 70, 71, 72, 73, 74, 75, 76, 77, 78, 79, 80, 81, 82, 83, 84, 85, 86, 87, 88, 89, 90, 91, 92, 93, 94, 95, 96, 97, 98, 99]\n"
     ]
    }
   ],
   "source": [
    "list9 = list(range(5,100))\n",
    "print(list9)"
   ]
  },
  {
   "cell_type": "code",
   "execution_count": 87,
   "id": "12e7e047-6cc3-40c9-9b81-696a1049fa3c",
   "metadata": {},
   "outputs": [
    {
     "name": "stdin",
     "output_type": "stream",
     "text": [
      "enter number: 23\n"
     ]
    },
    {
     "name": "stdout",
     "output_type": "stream",
     "text": [
      "23 * 1 = 23\n",
      "23 * 2 = 46\n",
      "23 * 3 = 69\n",
      "23 * 4 = 92\n",
      "23 * 5 = 115\n",
      "23 * 6 = 138\n",
      "23 * 7 = 161\n",
      "23 * 8 = 184\n",
      "23 * 9 = 207\n",
      "23 * 10 = 230\n"
     ]
    }
   ],
   "source": [
    "table = int(input(\"enter number:\"))\n",
    "for i in range (1,11):\n",
    "    print(table,\"*\",i,\"=\",table*i)\n"
   ]
  },
  {
   "cell_type": "code",
   "execution_count": null,
   "id": "ab1027ce-7a39-43f8-8632-e3b2e42465e8",
   "metadata": {},
   "outputs": [],
   "source": []
  },
  {
   "cell_type": "code",
   "execution_count": null,
   "id": "63d6c951-fe3a-4974-9b9d-9e212d82b309",
   "metadata": {},
   "outputs": [],
   "source": []
  },
  {
   "cell_type": "code",
   "execution_count": null,
   "id": "d0217f06-7be4-47d8-a599-dee147a60e97",
   "metadata": {},
   "outputs": [],
   "source": []
  },
  {
   "cell_type": "code",
   "execution_count": null,
   "id": "79ecc072-9ce3-415b-845e-250e8b3ac722",
   "metadata": {},
   "outputs": [],
   "source": []
  },
  {
   "cell_type": "markdown",
   "id": "081b7c31",
   "metadata": {},
   "source": [
    "### What are functions?\n",
    "Functions are blocks of reusable code that perform a specific task or a set of tasks.Some code-logic we write which you can reuse it.\n",
    "\n",
    "There are 2 types of functions:\n",
    "\n",
    "Pre-defined functions\n",
    "User-defined functions\n",
    "key terminologies:\n",
    "function def/logic - logic behind the creation of function.\n",
    "\n",
    "function call - Calling / activating / using or running the function which is defined.\n",
    "\n",
    "return - throw the value as output & it is catched by variable for further functions.\n",
    "\n",
    "function should always be called by ()\n",
    "\n",
    "1. Pre-defined functions : Pre-defined functions, also known as built-in functions, are functions that are already defined in the Python standard library and are available for direct use without the need for any additional package import. These functions provide a wide range of functionalities for common tasks in Python programming, and they are part of the core Python language.\n",
    "\n",
    "Pre-defined functions are an essential part of Python programming and provide a convenient and efficient way to perform common tasks without having to implement them from scratch. They greatly enhance the productivity and versatility of Python as a programming language."
   ]
  },
  {
   "cell_type": "code",
   "execution_count": 89,
   "id": "f3615d2c",
   "metadata": {},
   "outputs": [
    {
     "name": "stdout",
     "output_type": "stream",
     "text": [
      "A\n",
      "34\n"
     ]
    }
   ],
   "source": [
    "#print() is used for printing the output \n",
    "print(\"A\")\n",
    "num =34\n",
    "print(num)"
   ]
  },
  {
   "cell_type": "code",
   "execution_count": 90,
   "id": "8b6c79ed",
   "metadata": {},
   "outputs": [
    {
     "data": {
      "text/plain": [
       "34"
      ]
     },
     "execution_count": 90,
     "metadata": {},
     "output_type": "execute_result"
    }
   ],
   "source": [
    "num"
   ]
  },
  {
   "cell_type": "code",
   "execution_count": 14,
   "id": "1e332071",
   "metadata": {},
   "outputs": [
    {
     "name": "stdout",
     "output_type": "stream",
     "text": [
      "<class 'str'>\n",
      "<class 'int'>\n",
      "<class 'list'>\n",
      "<class 'range'>\n"
     ]
    }
   ],
   "source": [
    "#type() checks the type of data\n",
    "name = \"prashant\"\n",
    "age= 24\n",
    "print(type(name))\n",
    "print(type(age))\n",
    "subject = ['maths','english','hindi']\n",
    "print(type(subject))\n",
    "new = range(2,10)\n",
    "print(type(new))\n"
   ]
  },
  {
   "cell_type": "code",
   "execution_count": 91,
   "id": "0b7aae4f",
   "metadata": {},
   "outputs": [
    {
     "name": "stdin",
     "output_type": "stream",
     "text": [
      "enter your name: nandini\n"
     ]
    },
    {
     "name": "stdout",
     "output_type": "stream",
     "text": [
      "nandini\n",
      "<class 'str'>\n"
     ]
    }
   ],
   "source": [
    "#input() is used to take input\n",
    "name = input('enter your name:')\n",
    "print(name)\n",
    "print (type(name))\n"
   ]
  },
  {
   "cell_type": "code",
   "execution_count": 118,
   "id": "f620fff2-a3dc-4d8d-96f0-2f5b1dfa9850",
   "metadata": {},
   "outputs": [
    {
     "data": {
      "text/plain": [
       "3"
      ]
     },
     "execution_count": 118,
     "metadata": {},
     "output_type": "execute_result"
    }
   ],
   "source": [
    "#len()is used to calculate the length of characters or elements in collection\n",
    "\n",
    "subject = ['maths', 'english', 'hindi']\n",
    "len(subject)"
   ]
  },
  {
   "cell_type": "code",
   "execution_count": null,
   "id": "c7dada2a-ccba-4b46-a791-62a04a6cf086",
   "metadata": {},
   "outputs": [],
   "source": []
  },
  {
   "cell_type": "code",
   "execution_count": 110,
   "id": "4d37e22f-b0d2-428f-b680-050901d6615d",
   "metadata": {},
   "outputs": [],
   "source": []
  },
  {
   "cell_type": "code",
   "execution_count": 112,
   "id": "7bb6215a-6a9d-4264-947e-e0018afe8479",
   "metadata": {},
   "outputs": [
    {
     "data": {
      "text/plain": [
       "7"
      ]
     },
     "execution_count": 112,
     "metadata": {},
     "output_type": "execute_result"
    }
   ],
   "source": [
    "len ('nandini')\n"
   ]
  },
  {
   "cell_type": "code",
   "execution_count": 35,
   "id": "895ba204-e960-4165-886e-b7f47c7d49cc",
   "metadata": {},
   "outputs": [],
   "source": []
  },
  {
   "cell_type": "code",
   "execution_count": 127,
   "id": "374e2a47",
   "metadata": {},
   "outputs": [
    {
     "data": {
      "text/plain": [
       "[0, 1, 2, 3, 4, 5, 6, 7, 8, 9, 10]"
      ]
     },
     "execution_count": 127,
     "metadata": {},
     "output_type": "execute_result"
    }
   ],
   "source": [
    "#range () is used to create a range of values startinng from any whole number to an end number \n",
    "listt = list(range(11))\n",
    "listt"
   ]
  },
  {
   "cell_type": "code",
   "execution_count": null,
   "id": "e577b10a-9454-46a3-bc58-6a4a062bb6a4",
   "metadata": {},
   "outputs": [],
   "source": []
  },
  {
   "cell_type": "markdown",
   "id": "a3654807",
   "metadata": {},
   "source": [
    "**2. User- defined functions**  \n",
    "User defined - functions which are created/customized by the user according to the necessary condition."
   ]
  },
  {
   "cell_type": "code",
   "execution_count": 135,
   "id": "364c9f11",
   "metadata": {},
   "outputs": [],
   "source": [
    "def square(x):\n",
    "    s2 = x*x\n",
    "    return(s2)"
   ]
  },
  {
   "cell_type": "code",
   "execution_count": 136,
   "id": "9574089d-cbe6-47fe-9a60-e6dd65c51c49",
   "metadata": {},
   "outputs": [
    {
     "data": {
      "text/plain": [
       "81"
      ]
     },
     "execution_count": 136,
     "metadata": {},
     "output_type": "execute_result"
    }
   ],
   "source": [
    "square (9)"
   ]
  },
  {
   "cell_type": "code",
   "execution_count": 3,
   "id": "a6655f9b-a428-458f-bbd7-205d4dccf184",
   "metadata": {},
   "outputs": [],
   "source": [
    "def cube(x):\n",
    "    s2 = x*x*x\n",
    "    return(s2)"
   ]
  },
  {
   "cell_type": "code",
   "execution_count": 138,
   "id": "03032d19-ec2a-4941-b6e4-0df560629e79",
   "metadata": {},
   "outputs": [
    {
     "data": {
      "text/plain": [
       "729"
      ]
     },
     "execution_count": 138,
     "metadata": {},
     "output_type": "execute_result"
    }
   ],
   "source": [
    "cube(9)"
   ]
  },
  {
   "cell_type": "code",
   "execution_count": 139,
   "id": "d47b9c16-87ed-4b51-bd66-04108043fcfb",
   "metadata": {},
   "outputs": [
    {
     "name": "stdin",
     "output_type": "stream",
     "text": [
      "enter no,: 35\n"
     ]
    },
    {
     "data": {
      "text/plain": [
       "1225"
      ]
     },
     "execution_count": 139,
     "metadata": {},
     "output_type": "execute_result"
    }
   ],
   "source": [
    "num=int(input(\"enter no,:\"))\n",
    "square(num)"
   ]
  },
  {
   "cell_type": "code",
   "execution_count": 142,
   "id": "703a3a72-6db4-45ea-bb5e-154d2735e845",
   "metadata": {},
   "outputs": [
    {
     "name": "stdin",
     "output_type": "stream",
     "text": [
      "enter no,: 25\n"
     ]
    },
    {
     "data": {
      "text/plain": [
       "625"
      ]
     },
     "execution_count": 142,
     "metadata": {},
     "output_type": "execute_result"
    }
   ],
   "source": [
    "num=int(input(\"enter no,:\"))\n",
    "square(num)"
   ]
  },
  {
   "cell_type": "code",
   "execution_count": 146,
   "id": "db093832-670a-411a-b7c0-130edef4aae3",
   "metadata": {},
   "outputs": [],
   "source": [
    "def square2(x):\n",
    "    s3 = x*x\n",
    "    return(s3)"
   ]
  },
  {
   "cell_type": "code",
   "execution_count": 147,
   "id": "b4c6e9c8-7549-466a-a76d-7ad0264961f8",
   "metadata": {},
   "outputs": [
    {
     "data": {
      "text/plain": [
       "25"
      ]
     },
     "execution_count": 147,
     "metadata": {},
     "output_type": "execute_result"
    }
   ],
   "source": [
    "square2(5)"
   ]
  },
  {
   "cell_type": "code",
   "execution_count": 149,
   "id": "5a319e39-3242-4a53-9b8a-aa7ceb5cbb30",
   "metadata": {},
   "outputs": [
    {
     "name": "stdout",
     "output_type": "stream",
     "text": [
      "31\n"
     ]
    }
   ],
   "source": [
    "add = square2(num)+6\n",
    "print(add)"
   ]
  },
  {
   "cell_type": "code",
   "execution_count": 5,
   "id": "85facafd-1bc8-4150-a6dd-1641fef4a0de",
   "metadata": {},
   "outputs": [
    {
     "name": "stdout",
     "output_type": "stream",
     "text": [
      "side1: 5\n",
      "side2: 6\n",
      "side3: 4\n"
     ]
    }
   ],
   "source": [
    "side1,side2,side3 = int(input(\"side1: \")), int(input(\"side2: \")), int(input(\"side3: \"))\n",
    "def perimeter(a,b,c):\n",
    "    per = a+b+c\n",
    "    return per\n",
    "    "
   ]
  },
  {
   "cell_type": "code",
   "execution_count": 6,
   "id": "55cfffc8-ed99-41ca-b7db-32361965a5b6",
   "metadata": {},
   "outputs": [
    {
     "data": {
      "text/plain": [
       "15"
      ]
     },
     "execution_count": 6,
     "metadata": {},
     "output_type": "execute_result"
    }
   ],
   "source": [
    "perimeter(side1,side2,side3) #positional\n"
   ]
  },
  {
   "cell_type": "code",
   "execution_count": 7,
   "id": "76bb6e1e-cb2b-4f1c-b0b7-d90e781f01be",
   "metadata": {},
   "outputs": [
    {
     "data": {
      "text/plain": [
       "15"
      ]
     },
     "execution_count": 7,
     "metadata": {},
     "output_type": "execute_result"
    }
   ],
   "source": [
    "perimeter (side1,side2,side3) # "
   ]
  },
  {
   "cell_type": "code",
   "execution_count": 8,
   "id": "893569af-a064-4ba4-b071-cca0f5e322f8",
   "metadata": {},
   "outputs": [
    {
     "data": {
      "text/plain": [
       "69"
      ]
     },
     "execution_count": 8,
     "metadata": {},
     "output_type": "execute_result"
    }
   ],
   "source": [
    "perimeter (a=45,b=19,c=5)"
   ]
  },
  {
   "cell_type": "code",
   "execution_count": 9,
   "id": "60ac5b10-d3b0-4a64-8171-a944aa842aaa",
   "metadata": {},
   "outputs": [
    {
     "name": "stdout",
     "output_type": "stream",
     "text": [
      "side1: 5\n",
      "side2: 4\n",
      "side3: 6\n"
     ]
    }
   ],
   "source": [
    "side1,side2,side3 = int(input(\"side1: \")), int(input(\"side2: \")), int(input(\"side3: \"))\n",
    "def perimeter(a,b,c=15):\n",
    "    per = a+b+c\n",
    "    return per\n",
    "    perimeter(side1,side2,side3)\n"
   ]
  },
  {
   "cell_type": "code",
   "execution_count": 10,
   "id": "7a605eab-646f-44bf-9859-f5027ad099eb",
   "metadata": {},
   "outputs": [
    {
     "data": {
      "text/plain": [
       "25"
      ]
     },
     "execution_count": 10,
     "metadata": {},
     "output_type": "execute_result"
    }
   ],
   "source": [
    "perimeter (3,7,)"
   ]
  },
  {
   "cell_type": "code",
   "execution_count": 166,
   "id": "f39550ed-3501-45de-95e5-50eb5a1fcbcf",
   "metadata": {},
   "outputs": [],
   "source": [
    "def evenodd (num):\n",
    "    if num%2==0:\n",
    "        print(num,\"is even\")\n",
    "    else:\n",
    "        print(num,\" is odd\")\n",
    "              "
   ]
  },
  {
   "cell_type": "code",
   "execution_count": 167,
   "id": "b51396bb-d276-4288-a702-5404c3c7b778",
   "metadata": {},
   "outputs": [
    {
     "name": "stdin",
     "output_type": "stream",
     "text": [
      " 67\n"
     ]
    },
    {
     "name": "stdout",
     "output_type": "stream",
     "text": [
      "67  is odd\n"
     ]
    }
   ],
   "source": [
    "num=int(input())\n",
    "evenodd(num)"
   ]
  },
  {
   "cell_type": "code",
   "execution_count": null,
   "id": "9d66eb29-c889-4431-bd82-771aa4b0c071",
   "metadata": {},
   "outputs": [],
   "source": []
  },
  {
   "cell_type": "code",
   "execution_count": 127,
   "id": "164c5caa-08f0-48c3-894d-14cab1aaf457",
   "metadata": {},
   "outputs": [],
   "source": [
    "list2 = [7,5,7,7,7,8,9,9,9,7,6,5,4,3,2,5]"
   ]
  },
  {
   "cell_type": "code",
   "execution_count": 132,
   "id": "00742ad0-e65c-417d-9b7a-445bde58b962",
   "metadata": {},
   "outputs": [],
   "source": [
    "def div3(l1):\n",
    "    count=0\n",
    "    for i in l1:\n",
    "        if i%3==0:\n",
    "            count+=1\n",
    "    return count"
   ]
  },
  {
   "cell_type": "code",
   "execution_count": 134,
   "id": "a31086de-918b-422a-b73d-6a3a29ee82e6",
   "metadata": {},
   "outputs": [
    {
     "data": {
      "text/plain": [
       "5"
      ]
     },
     "execution_count": 134,
     "metadata": {},
     "output_type": "execute_result"
    }
   ],
   "source": [
    "div3(list2)"
   ]
  },
  {
   "cell_type": "code",
   "execution_count": 144,
   "id": "0b9a86be-2d89-41bd-8698-6e38435b5c47",
   "metadata": {},
   "outputs": [],
   "source": [
    "def div3(l1):\n",
    "    count=0\n",
    "    new=[]\n",
    "    for i in l1:\n",
    "        if i%3==0:\n",
    "            new.append(i)\n",
    "            count+=1\n",
    "            return count"
   ]
  },
  {
   "cell_type": "code",
   "execution_count": null,
   "id": "59514968",
   "metadata": {},
   "outputs": [],
   "source": []
  },
  {
   "cell_type": "code",
   "execution_count": null,
   "id": "e7f9960e",
   "metadata": {},
   "outputs": [],
   "source": []
  },
  {
   "cell_type": "code",
   "execution_count": 145,
   "id": "d37db849-8101-44b7-97bf-71a1232a2ce1",
   "metadata": {},
   "outputs": [
    {
     "data": {
      "text/plain": [
       "1"
      ]
     },
     "execution_count": 145,
     "metadata": {},
     "output_type": "execute_result"
    }
   ],
   "source": [
    "div3(list2)"
   ]
  },
  {
   "cell_type": "code",
   "execution_count": 148,
   "id": "92e0b1f3-82ad-4fa1-8a3b-f66a0ec7883a",
   "metadata": {},
   "outputs": [],
   "source": [
    "def hi():\n",
    "    num=23\n",
    "    name = \"prashant\"\n",
    "    new = str(num)\n",
    "    return name +\" \"+ new"
   ]
  },
  {
   "cell_type": "code",
   "execution_count": 149,
   "id": "0d43ecd4-b7c8-4fbf-a7d3-cc691a12f46d",
   "metadata": {},
   "outputs": [
    {
     "data": {
      "text/plain": [
       "'prashant 23'"
      ]
     },
     "execution_count": 149,
     "metadata": {},
     "output_type": "execute_result"
    }
   ],
   "source": [
    "hi()"
   ]
  },
  {
   "cell_type": "code",
   "execution_count": 167,
   "id": "8d9f28a9-8495-4613-a9e4-6e51111762b8",
   "metadata": {},
   "outputs": [],
   "source": [
    "a=90"
   ]
  },
  {
   "cell_type": "code",
   "execution_count": 168,
   "id": "c80e77e4-2a51-4ef5-b856-6bb74eb30b5e",
   "metadata": {},
   "outputs": [],
   "source": [
    "def evenoddno():\n",
    "    if a%2==0:\n",
    "        print(a,\"- is even\")\n",
    "    else:\n",
    "        print(a,\"- is odd:\")"
   ]
  },
  {
   "cell_type": "code",
   "execution_count": 169,
   "id": "982d462e-ec79-42c1-b0ec-141116f78b27",
   "metadata": {},
   "outputs": [
    {
     "name": "stdout",
     "output_type": "stream",
     "text": [
      "90 - is even\n"
     ]
    }
   ],
   "source": [
    "evenoddno()"
   ]
  },
  {
   "cell_type": "code",
   "execution_count": 4,
   "id": "4d9899a4-e6ba-4c85-baad-181e283fc779",
   "metadata": {},
   "outputs": [],
   "source": [
    "#### Lambda functions ::"
   ]
  },
  {
   "cell_type": "code",
   "execution_count": 168,
   "id": "93c992a5-e8fa-4615-84fd-ed888e192a96",
   "metadata": {},
   "outputs": [],
   "source": [
    "def addition(a,b,c):\n",
    "    add =a+b+c\n",
    "    return add"
   ]
  },
  {
   "cell_type": "code",
   "execution_count": 170,
   "id": "66025818-5d1c-46ff-bd2c-3aa47d8a6d6f",
   "metadata": {},
   "outputs": [
    {
     "data": {
      "text/plain": [
       "7"
      ]
     },
     "execution_count": 170,
     "metadata": {},
     "output_type": "execute_result"
    }
   ],
   "source": [
    "addition(3,4,0)"
   ]
  },
  {
   "cell_type": "code",
   "execution_count": 171,
   "id": "c57bef09-4513-4621-89be-a8713f0bc32b",
   "metadata": {},
   "outputs": [
    {
     "name": "stdout",
     "output_type": "stream",
     "text": [
      "<function <lambda> at 0x00000243BFCDE520>\n"
     ]
    }
   ],
   "source": [
    "add = lambda a,b,c : a+b+c\n",
    "print(add)"
   ]
  },
  {
   "cell_type": "code",
   "execution_count": 173,
   "id": "5d91c148-f148-43a5-a795-fa5f4002a4e5",
   "metadata": {},
   "outputs": [
    {
     "data": {
      "text/plain": [
       "13"
      ]
     },
     "execution_count": 173,
     "metadata": {},
     "output_type": "execute_result"
    }
   ],
   "source": [
    "add(4,8,1)"
   ]
  },
  {
   "cell_type": "code",
   "execution_count": 174,
   "id": "5d99c0ba-ddde-48e5-9a06-55af9e6379c8",
   "metadata": {},
   "outputs": [],
   "source": [
    "sub = lambda x:x-5"
   ]
  },
  {
   "cell_type": "code",
   "execution_count": 175,
   "id": "7841a7af-57fb-497d-84d2-8b33fb94ba9c",
   "metadata": {},
   "outputs": [
    {
     "data": {
      "text/plain": [
       "5"
      ]
     },
     "execution_count": 175,
     "metadata": {},
     "output_type": "execute_result"
    }
   ],
   "source": [
    "sub(10)"
   ]
  },
  {
   "cell_type": "code",
   "execution_count": 182,
   "id": "640d2be7-3cc9-40c5-96df-fc8cc51674ad",
   "metadata": {},
   "outputs": [],
   "source": [
    "sqr = lambda x:x**2  # ** = square root"
   ]
  },
  {
   "cell_type": "code",
   "execution_count": 183,
   "id": "60d06d7d-04ac-4c82-b3a2-ad64fcc000a2",
   "metadata": {},
   "outputs": [
    {
     "data": {
      "text/plain": [
       "100"
      ]
     },
     "execution_count": 183,
     "metadata": {},
     "output_type": "execute_result"
    }
   ],
   "source": [
    "sqr(10)"
   ]
  },
  {
   "cell_type": "code",
   "execution_count": 24,
   "id": "2523337e-d672-4b88-8a84-893a4afd8b93",
   "metadata": {},
   "outputs": [],
   "source": [
    "sqr = lambda x:x*2   # multiply"
   ]
  },
  {
   "cell_type": "code",
   "execution_count": 25,
   "id": "f2239d34-78b2-4044-952c-d079a64bef09",
   "metadata": {},
   "outputs": [
    {
     "data": {
      "text/plain": [
       "200"
      ]
     },
     "execution_count": 25,
     "metadata": {},
     "output_type": "execute_result"
    }
   ],
   "source": [
    "sqr(100)"
   ]
  },
  {
   "cell_type": "code",
   "execution_count": 26,
   "id": "bcd121e5-ab45-4810-92c6-7d25cf9a5517",
   "metadata": {},
   "outputs": [],
   "source": [
    "# range "
   ]
  },
  {
   "cell_type": "code",
   "execution_count": 27,
   "id": "05c47f9b-c1ef-493d-89a6-7842d9118cae",
   "metadata": {},
   "outputs": [
    {
     "data": {
      "text/plain": [
       "[0, 1, 2, 3, 4, 5, 6, 7, 8, 9]"
      ]
     },
     "execution_count": 27,
     "metadata": {},
     "output_type": "execute_result"
    }
   ],
   "source": [
    "list(range(10))\n"
   ]
  },
  {
   "cell_type": "code",
   "execution_count": 184,
   "id": "bb63fa71-a801-4759-9201-d92f98632832",
   "metadata": {},
   "outputs": [
    {
     "data": {
      "text/plain": [
       "[2, 5, 8, 11, 14, 17, 20, 23]"
      ]
     },
     "execution_count": 184,
     "metadata": {},
     "output_type": "execute_result"
    }
   ],
   "source": [
    "list(range(2,25,3,))"
   ]
  },
  {
   "cell_type": "code",
   "execution_count": 189,
   "id": "02acb363-e600-414a-a749-8d3468464d67",
   "metadata": {},
   "outputs": [
    {
     "name": "stdout",
     "output_type": "stream",
     "text": [
      "[2, 3, 4, 5, 6, 7, 8, 9, 10, 11, 12, 13, 14, 15, 16, 17, 18, 19, 20, 21, 22, 23, 24]\n"
     ]
    }
   ],
   "source": [
    "print(list(range(2,25,)))    #### Print ke sath horizontal jayega ,,,,without print verticle me "
   ]
  },
  {
   "cell_type": "code",
   "execution_count": null,
   "id": "555fe46d-bfd1-45af-8fde-1b73fa3a4317",
   "metadata": {},
   "outputs": [],
   "source": [
    "if(number>=0)"
   ]
  },
  {
   "cell_type": "code",
   "execution_count": null,
   "id": "aa9aa18c-871f-40bd-a05b-0705a1db793c",
   "metadata": {},
   "outputs": [],
   "source": []
  },
  {
   "cell_type": "markdown",
   "id": "c4c52364-562c-415d-951a-18688e72e069",
   "metadata": {},
   "source": [
    "# END"
   ]
  }
 ],
 "metadata": {
  "kernelspec": {
   "display_name": "Python 3 (ipykernel)",
   "language": "python",
   "name": "python3"
  },
  "language_info": {
   "codemirror_mode": {
    "name": "ipython",
    "version": 3
   },
   "file_extension": ".py",
   "mimetype": "text/x-python",
   "name": "python",
   "nbconvert_exporter": "python",
   "pygments_lexer": "ipython3",
   "version": "3.11.7"
  }
 },
 "nbformat": 4,
 "nbformat_minor": 5
}
